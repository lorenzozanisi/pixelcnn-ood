{
 "cells": [
  {
   "cell_type": "code",
   "execution_count": 7,
   "metadata": {},
   "outputs": [],
   "source": [
    "import numpy as np\n",
    "from maps import data_loader, plotter\n",
    "import matplotlib.pylab as plt\n",
    "import os\n",
    "path = '/scratch/lzanisi/pixel-cnn/'\n"
   ]
  },
  {
   "cell_type": "code",
   "execution_count": 8,
   "metadata": {},
   "outputs": [],
   "source": [
    "def make_dirs(model, choice):\n",
    "    '''\n",
    "    choice: string, either \"LLR\" or \"likelihood\"\n",
    "    '''\n",
    "    name = model.split('/')[-2]\n",
    "    run = model.split('/')[-3]\n",
    "    if not os.path.exists(path+'analysis/results/{}_ranges/{}_{}'.format(choice,name,run)):\n",
    "        os.mkdir(path+'analysis/results/{}_ranges/{}_{}'.format(choice,name,run))\n",
    "        os.mkdir(path+'analysis/results/{}_ranges/{}_{}/explore'.format(choice,name,run))\n",
    "        os.mkdir(path+'analysis/results/{}_ranges/{}_{}/explore/SDSS'.format(choice,name,run))\n",
    "        os.mkdir(path+'analysis/results/{}_ranges/{}_{}/explore/SDSS/likelihood'.format(choice,name,run))\n",
    "        os.mkdir(path+'analysis/results/{}_ranges/{}_{}/explore/SDSS/LLR'.format(choice,name,run))\n",
    "        os.mkdir(path+'analysis/results/{}_ranges/{}_{}/explore/SDSS/sigma'.format(choice,name,run))\n",
    "        os.mkdir(path+'analysis/results/{}_ranges/{}_{}/explore/SDSS/mu'.format(choice,name,run))\n",
    "        os.mkdir(path+'analysis/results/{}_ranges/{}_{}/explore/SDSS/data'.format(choice,name,run))\n",
    "\n",
    "        os.mkdir(path+'analysis/results/{}_ranges/{}_{}/explore/blobs'.format(choice,name,run))\n",
    "        os.mkdir(path+'analysis/results/{}_ranges/{}_{}/explore/blobs/likelihood'.format(choice,name,run))\n",
    "        os.mkdir(path+'analysis/results/{}_ranges/{}_{}/explore/blobs/LLR'.format(choice,name,run))\n",
    "        os.mkdir(path+'analysis/results/{}_ranges/{}_{}/explore/blobs/sigma'.format(choice,name,run))\n",
    "        os.mkdir(path+'analysis/results/{}_ranges/{}_{}/explore/blobs/mu'.format(choice,name,run))\n",
    "        os.mkdir(path+'analysis/results/{}_ranges/{}_{}/explore/blobs/data'.format(choice,name,run))\n",
    "        \n",
    "        os.mkdir(path+'analysis/results/{}_ranges/{}_{}/explore/TNG'.format(choice,name,run))\n",
    "        os.mkdir(path+'analysis/results/{}_ranges/{}_{}/explore/TNG/likelihood'.format(choice,name,run))\n",
    "        os.mkdir(path+'analysis/results/{}_ranges/{}_{}/explore/TNG/LLR'.format(choice,name,run))\n",
    "        os.mkdir(path+'analysis/results/{}_ranges/{}_{}/explore/TNG/sigma'.format(choice,name,run))\n",
    "        os.mkdir(path+'analysis/results/{}_ranges/{}_{}/explore/TNG/mu'.format(choice,name,run))\n",
    "        os.mkdir(path+'analysis/results/{}_ranges/{}_{}/explore/TNG/data'.format(choice,name,run))\n",
    "        \n",
    "        os.mkdir(path+'analysis/results/{}_ranges/{}_{}/explore/Illustris'.format(choice,name,run))\n",
    "        os.mkdir(path+'analysis/results/{}_ranges/{}_{}/explore/Illustris/likelihood'.format(choice,name,run))\n",
    "        os.mkdir(path+'analysis/results/{}_ranges/{}_{}/explore/Illustris/LLR'.format(choice,name,run))\n",
    "        os.mkdir(path+'analysis/results/{}_ranges/{}_{}/explore/Illustris/sigma'.format(choice,name,run))\n",
    "        os.mkdir(path+'analysis/results/{}_ranges/{}_{}/explore/Illustris/mu'.format(choice,name,run))\n",
    "        os.mkdir(path+'analysis/results/{}_ranges/{}_{}/explore/Illustris/data'.format(choice,name,run))\n",
    "        \n",
    "        os.mkdir(path+'analysis/results/{}_ranges/{}_{}/explore/sky'.format(choice,name,run))\n",
    "        os.mkdir(path+'analysis/results/{}_ranges/{}_{}/explore/sky/likelihood'.format(choice,name,run))\n",
    "        os.mkdir(path+'analysis/results/{}_ranges/{}_{}/explore/sky/LLR'.format(choice,name,run))\n",
    "        os.mkdir(path+'analysis/results/{}_ranges/{}_{}/explore/sky/sigma'.format(choice,name,run))\n",
    "        os.mkdir(path+'analysis/results/{}_ranges/{}_{}/explore/sky/mu'.format(choice,name,run))\n",
    "        os.mkdir(path+'analysis/results/{}_ranges/{}_{}/explore/sky/data'.format(choice,name,run))\n",
    "\n",
    "        os.mkdir(path+'analysis/results/{}_ranges/{}_{}/outliers'.format(choice,name,run))\n",
    "        os.mkdir(path+'analysis/results/{}_ranges/{}_{}/outliers/SDSS'.format(choice,name,run))\n",
    "        os.mkdir(path+'analysis/results/{}_ranges/{}_{}/outliers/SDSS/likelihood'.format(choice,name,run))\n",
    "        os.mkdir(path+'analysis/results/{}_ranges/{}_{}/outliers/SDSS/LLR'.format(choice,name,run))\n",
    "        os.mkdir(path+'analysis/results/{}_ranges/{}_{}/outliers/SDSS/sigma'.format(choice,name,run))\n",
    "        os.mkdir(path+'analysis/results/{}_ranges/{}_{}/outliers/SDSS/mu'.format(choice,name,run))\n",
    "        os.mkdir(path+'analysis/results/{}_ranges/{}_{}/outliers/SDSS/data'.format(choice,name,run))\n",
    "\n",
    "        os.mkdir(path+'analysis/results/{}_ranges/{}_{}/outliers/blobs'.format(choice,name,run))\n",
    "        os.mkdir(path+'analysis/results/{}_ranges/{}_{}/outliers/blobs/likelihood'.format(choice,name,run))\n",
    "        os.mkdir(path+'analysis/results/{}_ranges/{}_{}/outliers/blobs/LLR'.format(choice,name,run))\n",
    "        os.mkdir(path+'analysis/results/{}_ranges/{}_{}/outliers/blobs/sigma'.format(choice,name,run))\n",
    "        os.mkdir(path+'analysis/results/{}_ranges/{}_{}/outliers/blobs/mu'.format(choice,name,run))\n",
    "        os.mkdir(path+'analysis/results/{}_ranges/{}_{}/outliers/blobs/data'.format(choice,name,run))\n",
    "        \n",
    "        os.mkdir(path+'analysis/results/{}_ranges/{}_{}/outliers/TNG'.format(choice,name,run))\n",
    "        os.mkdir(path+'analysis/results/{}_ranges/{}_{}/outliers/TNG/likelihood'.format(choice,name,run))\n",
    "        os.mkdir(path+'analysis/results/{}_ranges/{}_{}/outliers/TNG/LLR'.format(choice,name,run))\n",
    "        os.mkdir(path+'analysis/results/{}_ranges/{}_{}/outliers/TNG/sigma'.format(choice,name,run))\n",
    "        os.mkdir(path+'analysis/results/{}_ranges/{}_{}/outliers/TNG/mu'.format(choice,name,run))\n",
    "        os.mkdir(path+'analysis/results/{}_ranges/{}_{}/outliers/TNG/data'.format(choice,name,run))\n",
    "        \n",
    "        os.mkdir(path+'analysis/results/{}_ranges/{}_{}/outliers/Illustris'.format(choice,name,run))\n",
    "        os.mkdir(path+'analysis/results/{}_ranges/{}_{}/outliers/Illustris/likelihood'.format(choice,name,run))\n",
    "        os.mkdir(path+'analysis/results/{}_ranges/{}_{}/outliers/Illustris/LLR'.format(choice,name,run))\n",
    "        os.mkdir(path+'analysis/results/{}_ranges/{}_{}/outliers/Illustris/sigma'.format(choice,name,run))\n",
    "        os.mkdir(path+'analysis/results/{}_ranges/{}_{}/outliers/Illustris/mu'.format(choice,name,run))\n",
    "        os.mkdir(path+'analysis/results/{}_ranges/{}_{}/outliers/Illustris/data'.format(choice,name,run))"
   ]
  },
  {
   "cell_type": "code",
   "execution_count": 9,
   "metadata": {},
   "outputs": [],
   "source": [
    "model1 =path+'trained/0.02_0.08/asinh_SDSS_blobsLike/1Msteps/pixelcnn_out'\n",
    "model2 = path+'trained/0.02_0.08/asinh_NewSersicBlobs_SerOnly/1Msteps/pixelcnn_out'    "
   ]
  },
  {
   "cell_type": "code",
   "execution_count": 10,
   "metadata": {},
   "outputs": [],
   "source": [
    "# build paths if not present\n",
    "make_dirs(model1,choice='LLR')\n",
    "make_dirs(model2,choice='LLR')"
   ]
  },
  {
   "cell_type": "code",
   "execution_count": 11,
   "metadata": {},
   "outputs": [],
   "source": [
    "# main function, call it for all datasets\n",
    "def get_maps(dataset, model1, model2):\n",
    "    \n",
    "    print('loading {} ...'.format(dataset))\n",
    "    \n",
    "    loader = data_loader(dataset=dataset, model=model1,model2=model2)\n",
    "    LLR, ids = loader.load(map_type='LLR')\n",
    "    L, _ = loader.load(map_type='likelihoodmap')\n",
    "    data, _ = loader.load(map_type='data_rot')\n",
    "    mu, _ = loader.load(map_type='locmap')\n",
    "    sigma, _ =loader.load(map_type='scalemap')\n",
    "    \n",
    "    loader2 = data_loader(dataset=dataset, model=model2,model2=model1)\n",
    "    LLR2, ids2 = loader2.load(map_type='LLR')\n",
    "    L2, _ = loader2.load(map_type='likelihoodmap')\n",
    "    data2, _ = loader2.load(map_type='data_rot')\n",
    "    mu2, _ = loader2.load(map_type='locmap')\n",
    "    sigma2, _ =loader2.load(map_type='scalemap')\n",
    "    \n",
    "    plot = plotter(dataset=dataset)\n",
    "    print('plotting...')\n",
    "    if dataset!='sky':\n",
    "        plot.get_maps(data=data, mu=mu,sigma=sigma, lmap=L, llrmap=LLR, model=model1,\\\n",
    "                  data2=data2, mu2=mu2,sigma2=sigma2, lmap2=L2, llrmap2=LLR2, model2=model2, choice='LLR', action='outliers')\n",
    "    plot.get_maps(data=data, mu=mu,sigma=sigma, lmap=L, llrmap=LLR, model=model1,\\\n",
    "              data2= data2, mu2=mu2,sigma2=sigma2, lmap2=L2, llrmap2=LLR2, model2=model2, choice='LLR', action='explore')\n",
    "   \n"
   ]
  },
  {
   "cell_type": "code",
   "execution_count": 12,
   "metadata": {},
   "outputs": [
    {
     "name": "stdout",
     "output_type": "stream",
     "text": [
      "loading blobs ...\n",
      "plotting...\n",
      "outliers done\n",
      "exploration done\n",
      "blobs done\n",
      "loading SDSS ...\n",
      "plotting...\n",
      "outliers done\n",
      "exploration done\n",
      "SDSS done\n",
      "loading TNG ...\n",
      "plotting...\n",
      "outliers done\n",
      "exploration done\n",
      "TNG done\n",
      "loading Illustris ...\n",
      "plotting...\n",
      "outliers done\n",
      "exploration done\n",
      "Illustris done\n"
     ]
    }
   ],
   "source": [
    "get_maps(dataset=\"blobs\", model1=model1, model2=model2)\n",
    "print('blobs done')\n",
    "get_maps(dataset=\"SDSS\", model1=model1, model2=model2)\n",
    "print('SDSS done')\n",
    "get_maps(dataset=\"TNG\", model1=model1, model2=model2)\n",
    "print('TNG done')\n",
    "get_maps(dataset=\"Illustris\", model1=model1, model2=model2)\n",
    "print('Illustris done')"
   ]
  },
  {
   "cell_type": "code",
   "execution_count": 13,
   "metadata": {},
   "outputs": [],
   "source": [
    "! touch get_maps.py"
   ]
  },
  {
   "cell_type": "code",
   "execution_count": null,
   "metadata": {},
   "outputs": [],
   "source": []
  }
 ],
 "metadata": {
  "kernelspec": {
   "display_name": "Python 3",
   "language": "python",
   "name": "python3"
  },
  "language_info": {
   "codemirror_mode": {
    "name": "ipython",
    "version": 3
   },
   "file_extension": ".py",
   "mimetype": "text/x-python",
   "name": "python",
   "nbconvert_exporter": "python",
   "pygments_lexer": "ipython3",
   "version": "3.6.8"
  }
 },
 "nbformat": 4,
 "nbformat_minor": 2
}
