{
 "cells": [
  {
   "cell_type": "code",
   "execution_count": 1,
   "metadata": {},
   "outputs": [],
   "source": [
    "import seaborn as sns\n",
    "from astropy.io import fits\n",
    "from multiprocessing import Pool\n",
    "import numpy as np\n",
    "import pandas as pd\n",
    "import matplotlib.pylab as plt\n",
    "from astropy.table import Table\n",
    "from glob import glob\n",
    "plt.rcParams['axes.linewidth']= 3.\n",
    "plt.rcParams['axes.titlepad'] = 20\n",
    "plt.rcParams['axes.linewidth']=5\n",
    "plt.rcParams['xtick.major.size'] =15\n",
    "plt.rcParams['ytick.major.size'] =15\n",
    "plt.rcParams['xtick.minor.size'] =10\n",
    "plt.rcParams['ytick.minor.size'] =10\n",
    "plt.rcParams['xtick.major.width'] =5\n",
    "plt.rcParams['ytick.major.width'] =5\n",
    "plt.rcParams['xtick.minor.width'] =5\n",
    "plt.rcParams['ytick.minor.width'] =5\n",
    "plt.rcParams['figure.figsize'] = (16,16)"
   ]
  },
  {
   "cell_type": "code",
   "execution_count": 2,
   "metadata": {},
   "outputs": [],
   "source": [
    "inList = glob('/scratch/mhuertas/TNG50_SDSS/Inputs/*')\n",
    "inList2 = glob('/scratch/mhuertas/TNG50_SDSS/Outputs_orig/*')\n",
    "\n",
    "OutList = glob('/scratch/mhuertas/TNG50_SDSS/Outputs/*')"
   ]
  },
  {
   "cell_type": "code",
   "execution_count": 3,
   "metadata": {},
   "outputs": [
    {
     "data": {
      "text/plain": [
       "('/scratch/mhuertas/TNG50_SDSS/Inputs/broadband_634652.fits_r_band.fits',\n",
       " '/scratch/mhuertas/TNG50_SDSS/Outputs/broadband_660683_FullReal.fits_r_band_FullReal.fits',\n",
       " '/scratch/mhuertas/TNG50_SDSS/Outputs_orig/broadband_660683_FullReal.fits_r_band_FullReal.fits')"
      ]
     },
     "execution_count": 3,
     "metadata": {},
     "output_type": "execute_result"
    }
   ],
   "source": [
    "inList[0],OutList[0],inList2[0]"
   ]
  },
  {
   "cell_type": "code",
   "execution_count": 4,
   "metadata": {},
   "outputs": [],
   "source": [
    "def get_ids_in(x):\n",
    "    return x.split('/')[-1].split('_')[1].split('.')[0]\n",
    "def get_ids_out(x):\n",
    "    return x.split('/')[-1].split('_')[1].split('.')[0]\n",
    "In = sorted(list(map(get_ids_in, inList)))\n",
    "In2 = sorted(list(map(get_ids_in, inList2)))\n",
    "Out = sorted(list(map(get_ids_out, OutList)))"
   ]
  },
  {
   "cell_type": "code",
   "execution_count": 5,
   "metadata": {},
   "outputs": [],
   "source": [
    "pars = [(x,y) for x,y in zip(In,Out)]\n",
    "pars2 = [(x,y) for x,y in zip(In2,Out)]"
   ]
  },
  {
   "cell_type": "code",
   "execution_count": 6,
   "metadata": {},
   "outputs": [],
   "source": [
    "def get_mag(x,y):\n",
    "    x = '/scratch/mhuertas/TNG50_SDSS/Inputs/broadband_{}.fits_r_band.fits'.format(x)\n",
    "    y = '/scratch/mhuertas/TNG50_SDSS/Outputs/broadband_{}_FullReal.fits_r_band_FullReal.fits'.format(y)\n",
    "    indata = fits.getdata(x)\n",
    "#inmag[i] = -2.5*np.log10(np.sum(10**(-0.4*(indata-22.5))*0.396**2))\n",
    "    h = fits.getheader(y)\n",
    "    aa =h['ZERO']\n",
    "    kk = h['EXTC']\n",
    "    airmass=h['AIRM']\n",
    "    cpn = 53.907*10**(-0.4*(22.5+aa+kk*airmass)) # counts/nmaggie\n",
    "    gain = h['GAIN']\n",
    "    inmag=22.5-2.5*np.log10(np.sum(indata*53.9*6.0/(gain*cpn)))\n",
    "    return inmag\n",
    "\n",
    "def get_mag2(x,y):\n",
    "    x = '/scratch/mhuertas/TNG50_SDSS/Outputs_orig/broadband_{}_FullReal.fits_r_band_FullReal.fits'.format(x)\n",
    "    y = '/scratch/mhuertas/TNG50_SDSS/Outputs/broadband_{}_FullReal.fits_r_band_FullReal.fits'.format(y)\n",
    "    indata = fits.getdata(x)\n",
    "#inmag[i] = -2.5*np.log10(np.sum(10**(-0.4*(indata-22.5))*0.396**2))\n",
    "    h = fits.getheader(y)\n",
    "    aa =h['ZERO']\n",
    "    kk = h['EXTC']\n",
    "    airmass=h['AIRM']\n",
    "    cpn = 53.907*10**(-0.4*(22.5+aa+kk*airmass)) # counts/nmaggie\n",
    "    gain = h['GAIN']\n",
    "    inmag=22.5-2.5*np.log10(np.sum(indata*53.9*6.0/(gain*cpn)))\n",
    "    return inmag"
   ]
  },
  {
   "cell_type": "code",
   "execution_count": 7,
   "metadata": {},
   "outputs": [],
   "source": [
    "from multiprocessing import Pool\n",
    "\n",
    "with Pool() as p:\n",
    "    mag = p.starmap(get_mag,pars)\n",
    "with Pool() as p:\n",
    "    mag2 = p.starmap(get_mag2,pars)"
   ]
  },
  {
   "cell_type": "code",
   "execution_count": 38,
   "metadata": {},
   "outputs": [],
   "source": [
    "np.savetxt('../TNG50_cutouts/mag_match.txt', mag)"
   ]
  },
  {
   "cell_type": "code",
   "execution_count": 8,
   "metadata": {},
   "outputs": [
    {
     "data": {
      "text/plain": [
       "<matplotlib.legend.Legend at 0x7f801e9fe940>"
      ]
     },
     "execution_count": 8,
     "metadata": {},
     "output_type": "execute_result"
    },
    {
     "data": {
      "image/png": "[encoded data removed]",
      "text/plain": [
       "<Figure size 432x288 with 1 Axes>"
      ]
     },
     "metadata": {
      "needs_background": "light"
     },
     "output_type": "display_data"
    }
   ],
   "source": [
    "bins=np.arange(11,19,0.1)\n",
    "plt.hist(mag, label='orig', bins=bins)\n",
    "plt.hist(mag, label='magmatch', bins=bins, alpha=0.5)\n",
    "plt.legend()"
   ]
  },
  {
   "cell_type": "code",
   "execution_count": null,
   "metadata": {},
   "outputs": [],
   "source": []
  }
 ],
 "metadata": {
  "kernelspec": {
   "display_name": "Python 3",
   "language": "python",
   "name": "python3"
  },
  "language_info": {
   "codemirror_mode": {
    "name": "ipython",
    "version": 3
   },
   "file_extension": ".py",
   "mimetype": "text/x-python",
   "name": "python",
   "nbconvert_exporter": "python",
   "pygments_lexer": "ipython3",
   "version": "3.6.8"
  }
 },
 "nbformat": 4,
 "nbformat_minor": 2
}
