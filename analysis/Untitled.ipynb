{
 "cells": [
  {
   "cell_type": "code",
   "execution_count": 8,
   "metadata": {},
   "outputs": [],
   "source": [
    "import seaborn as sns\n",
    "from astropy.io import fits\n",
    "from multiprocessing import Pool\n",
    "import numpy as np\n",
    "import pandas as pd\n",
    "import matplotlib.pylab as plt\n",
    "from scipy.stats import binned_statistic_2d\n",
    "from mpl_toolkits.axes_grid1 import make_axes_locatable\n",
    "from astropy.table import Table\n",
    "from maps import data_loader\n",
    "plt.rcParams['axes.titlepad'] = 20\n",
    "plt.rcParams['axes.linewidth']= 3\n",
    "plt.rcParams['xtick.major.size'] =8\n",
    "plt.rcParams['ytick.major.size'] =8\n",
    "plt.rcParams['xtick.minor.size'] =4\n",
    "plt.rcParams['ytick.minor.size'] =4\n",
    "plt.rcParams['xtick.major.width'] =5\n",
    "plt.rcParams['ytick.major.width'] =5\n",
    "plt.rcParams['xtick.minor.width'] =5\n",
    "plt.rcParams['ytick.minor.width'] =5\n",
    "plt.rcParams['font.size'] = 35\n",
    "plt.rcParams['figure.figsize'] = (12,12)"
   ]
  },
  {
   "cell_type": "code",
   "execution_count": 3,
   "metadata": {},
   "outputs": [],
   "source": [
    "def load_datasets(orig=True):\n",
    "\n",
    "    if orig:\n",
    "        TNG50 = pd.read_csv('/scratch/lzanisi/pixel-cnn/data/DataFrames_LLR/TNG50_Rot_blobsLike_orig_0.03_0.055.csv')[['objid','likelihood','galsky','skysig','LLR']]\n",
    "        TNG = pd.read_csv('/scratch/lzanisi/pixel-cnn/data/DataFrames_LLR/TNG_Rot_blobsLike_orig_0.03_0.055.csv')\n",
    "        Illustris = pd.read_csv('/scratch/lzanisi/pixel-cnn/data/DataFrames_LLR/Illustris_Rot_blobsLike_orig_0.03_0.055.csv')[['objid','likelihood','LLR']]\n",
    "        \n",
    "        TNG50_mag = pd.read_csv('/scratch/lzanisi/pixel-cnn/data/df_TNG50_ordered_Mgt9.5_skysub_orig.csv',sep=' ')[['objid','mag','sersic_n_r','flag_r', 'sersic_rhalf_r',\\\n",
    "                                                                                                                    'StellarMasses_in_r30pkpc','SFR_MsunPerYrs_in_all_10Myrs']]\n",
    "        TNG_mag = pd.read_csv('/scratch/lzanisi/pixel-cnn/data/df_TNG_ordered_Mgt9.5_skysub_orig.csv',sep=' ')[['objid','mag']]\n",
    "        Illustris_mag = pd.read_csv('/scratch/lzanisi/pixel-cnn/data/df_ill_ordered_Mgt9.5_skysub_orig.csv',sep=' ')#[['objid','mag']]\n",
    "        \n",
    "        TNG50 = TNG50.merge(TNG50_mag, on='objid')\n",
    "        TNG = TNG.merge(TNG_mag, on='objid')\n",
    "        Illustris = Illustris.merge(Illustris_mag, on='objid')      \n",
    "        \n",
    "    else:\n",
    "        TNG50 = pd.read_csv('/scratch/lzanisi/pixel-cnn/data/DataFrames_LLR/TNG50_Rot_blobsLike_orig_0.03_0.055_magmatch.csv')\n",
    "        TNG = pd.read_csv('/scratch/lzanisi/pixel-cnn/data/DataFrames_LLR/TNG_Rot_blobsLike_orig_0.03_0.055_magmatch.csv')\n",
    "        Illustris = pd.read_csv('/scratch/lzanisi/pixel-cnn/data/DataFrames_LLR/Illustris_Rot_blobsLike_orig_0.03_0.055_magmatch.csv')\n",
    "        \n",
    "        TNG_mag = pd.read_csv('/scratch/lzanisi/pixel-cnn/data/df_TNG_ordered_Mgt9.5_skysub_magmatch.csv',sep=' ')[['objid','mag']]\n",
    "        TNG50_mag = pd.read_csv('/scratch/lzanisi/pixel-cnn/data/df_TNG50_ordered_Mgt9.5_skysub_magmatch.csv',sep=' ')[['objid','mag']]\n",
    "        TNG50 = TNG50.merge(TNG50_mag, on='objid')\n",
    "        TNG = TNG.merge(TNG_mag, on='objid')      \n",
    "        \n",
    "    TNG50_mhalo = pd.read_csv('/scratch/lzanisi/pixel-cnn/TNG50_cutouts/TNG50_mhalo.csv')\n",
    "    TNG50 = TNG50.merge(TNG50_mhalo, on='objid')\n",
    "    TNG50 = TNG50.rename(columns={'galsky':'sky [nmaggie]','flag_r':'flag_sersic','mag_x':'mag','StellarMasses_in_r30pkpc':'Mstar', 'SFR_MsunPerYrs_in_all_10Myrs':'SFR'})\n",
    "\n",
    "    SDSS = pd.read_csv('/scratch/lzanisi/pixel-cnn/data/cleaned_df_bis_0.03_0.055_blobsLike_skysub.dat',sep=' ')[35000:]#[['objid','galcount','','LCentSat','mag']]\n",
    "    SDSS_all = pd.read_csv('/scratch/lzanisi/pixel-cnn/data/DataFrames_LLR/SDSS_Rot_blobsLike_0.03_0.055_all.csv')[['galcount','likelihood','LLR']]\n",
    "    #SDSS_mag = pd.read_csv('/scratch/lzanisi/pixel-cnn/data/cleaned_df_bis_0.03_0.055_blobsLike_skysub_onlymag.dat', sep= ' ')\n",
    "    \n",
    "    SDSS = SDSS.merge(SDSS_all, on='galcount')\n",
    "    #SDSS = SDSS.query('MhaloL>0').sample(frac=9196/len(SDSS_all))\n",
    "    #SDSS = SDSS_L.merge(SDSS, on='galcount')\n",
    "    \n",
    "    # add physical properties to TNG\n",
    "    df_f = pd.read_csv('/scratch/lzanisi/pixel-cnn/TNG_cutouts/snap_95_unfiltered_bis.csv')[['Unnamed: 0','SFR']]\n",
    "    TNG = pd.merge(TNG, df_f, left_on='Illustris_ID_2_2', right_on='Unnamed: 0')\n",
    "    mhalo = pd.read_csv('/scratch/lzanisi/pixel-cnn/TNG_cutouts/snap_95_mhalomean.csv')[['Unnamed: 0', 'ParentDM','M_BH']]\n",
    "    TNG = pd.merge(TNG, mhalo, left_on='Illustris_ID_2_2', right_on='Unnamed: 0')\n",
    "    centrals_jstar = pd.read_csv('/scratch/lzanisi/pixel-cnn/TNG_cutouts/TNG_jstar_s95_lzanisi.csv') #this contains only centrals\n",
    "    TNG = pd.merge(TNG, centrals_jstar, left_on = 'Illustris_ID_2_2', right_on='Illustris_ID_2_1', how='outer' )\n",
    "    TNG['LCentSat'] = TNG['sJ_star_1re'].apply(lambda x: 0 if x!=x else 1)\n",
    "    TNG['SFR'] = TNG['SFR'].apply(lambda x: np.log10(x) if x==x else np.nan)\n",
    "    TNG50['SFR'] = TNG50['SFR'].apply(lambda x: np.log10(x) if x==x else np.nan)\n",
    "\n",
    "    #clean\n",
    "    TNG = TNG.query('likelihood>3000 & sersic_n>0 & LLR>-50 & sersic_n<7  & LLR<500')\n",
    "    TNG50 = TNG50.query('likelihood>3000 & sersic_n_r>0 & LLR>-50 & sersic_n_r<7  & LLR<500')\n",
    "\n",
    "    Illustris = Illustris.query('likelihood>3000 & sersic_n>0 & LLR>-50  &  sersic_n<7 & LLR<500')\n",
    "    SDSS = SDSS.query('likelihood>3000  & LLR>-50  & LLR<500 & GalSky_err>0 ')\n",
    "    \n",
    "    #rename\n",
    "    SDSS['sky [nmaggie]'] = SDSS['GalSky'].apply(lambda x: 10**(-0.4*(x-22.5)  )*0.396**2)\n",
    "    Illustris = Illustris.rename(columns={'galsky':'sky [nmaggie]','sersic_n':'n_bulge'})\n",
    "    TNG = TNG.rename(columns={'sky':'sky [nmaggie]','sersic_n':'n_bulge','mag_x':'mag','LogMass30':'Mstar','ParentDM':'Mhalo'}) \n",
    "    TNG50 = TNG50.rename(columns={'galsky':'sky [nmaggie]','sersic_n_r':'n_bulge','mag_x':'mag','StellarMasses_in_r30pkpc':'Mstar', 'SFR_MsunPerYrs_in_all_10Myrs':'SFR'})\n",
    "    SDSS = SDSS.rename(columns={'MsMendSerExp':'Mstar','MhaloL':'Mhalo'})\n",
    "    \n",
    "    \n",
    "    TNG['$logR_e \\ [arcsec]$'] = TNG['sersic_rhalf'].apply(lambda x: np.log10(0.396*x))\n",
    "    TNG['$n_{ser}$'] = TNG['n_bulge'].copy()\n",
    "    TNG['sSFR'] = TNG.apply(lambda row: row.SFR-row.Mstar,axis=1)\n",
    "    TNG['sSFR'] = TNG['sSFR'].apply(lambda x: -12.5 if x<-12.5 or x!=x else x)\n",
    "    \n",
    "    \n",
    "    TNG50['$logR_e \\ [arcsec]$'] = TNG50['sersic_rhalf_r'].apply(lambda x: np.log10(0.396*x))\n",
    "    TNG50['$n_{ser}$'] = TNG50['n_bulge'].copy()\n",
    "    TNG50['sSFR'] = TNG50.apply(lambda row: row.SFR-row.Mstar,axis=1)\n",
    "    TNG50['sSFR'] = TNG50['sSFR'].apply(lambda x: -12.5 if x<-12.5 or x!=x else x)\n",
    "    TNG50['Mstar'] = TNG50['Mstar'].apply(lambda x: x +np.log10(0.68))\n",
    "    \n",
    "    Illustris['$logR_e \\ [arcsec]$'] = Illustris['sersic_rhalf'].apply(lambda x: np.log10(0.396*x))\n",
    "    Illustris['$n_{ser}$'] = Illustris['n_bulge'].copy()\n",
    "    Illustris['sSFR'] = Illustris.apply(lambda row: row.SFR-row.Mstar,axis=1)\n",
    "    Illustris['sSFR'] = Illustris['sSFR'].apply(lambda x: -12.5 if x<-12.5 or x!=x else x)\n",
    "    \n",
    "    SDSS['$logR_e \\ [arcsec]$'] = SDSS['r_bulge'].apply(np.log10)\n",
    "    SDSS = SDSS[SDSS['$logR_e \\ [arcsec]$']>-1]\n",
    "    SDSS['$n_{ser}$'] = SDSS['n_bulge'].copy()\n",
    "    SDSS['sSFR'] = SDSS.apply(lambda row: row.SFR-row.Mstar,axis=1)\n",
    "    SDSS['sSFR'] = SDSS['sSFR'].apply(lambda x: -12.5 if x<-12.5 or x!=x else x)\n",
    "    SDSS['Mhalo'] = SDSS['Mhalo'].apply(lambda x: 0 if x==0 else x + np.log10(1.1))\n",
    "    \n",
    "    \n",
    "    return SDSS, TNG50, TNG, Illustris"
   ]
  },
  {
   "cell_type": "code",
   "execution_count": 10,
   "metadata": {},
   "outputs": [],
   "source": [
    "def loader(dataset,model1, model2):\n",
    "    print('loading {} ...'.format(dataset))\n",
    "    \n",
    "    loader = data_loader(dataset=dataset, model=model1,model2=model2)\n",
    "    LLR, ids = loader.load(map_type='LLR')\n",
    "    data, _ = loader.load(map_type='data_rot')\n",
    "     \n",
    "    return LLR, data, ids"
   ]
  },
  {
   "cell_type": "code",
   "execution_count": 4,
   "metadata": {},
   "outputs": [
    {
     "name": "stderr",
     "output_type": "stream",
     "text": [
      "/scratch/lzanisi/anaconda3/lib/python3.6/site-packages/ipykernel_launcher.py:58: SettingWithCopyWarning: \n",
      "A value is trying to be set on a copy of a slice from a DataFrame.\n",
      "Try using .loc[row_indexer,col_indexer] = value instead\n",
      "\n",
      "See the caveats in the documentation: http://pandas.pydata.org/pandas-docs/stable/indexing.html#indexing-view-versus-copy\n"
     ]
    }
   ],
   "source": [
    "SDSS, TNG50, TNG, Illustris = load_datasets(orig=True)"
   ]
  },
  {
   "cell_type": "code",
   "execution_count": 5,
   "metadata": {},
   "outputs": [],
   "source": [
    "SDSS_cen = SDSS.query('LCentSat==1')\n",
    "TNG_cen = TNG.query('LCentSat==1')\n",
    "TNG50_cen = TNG50.query('LCentSat==1')\n",
    "Illustris_cen = Illustris.query('LCentSat==1')\n",
    "\n",
    "SDSS_sat = SDSS.query('LCentSat==2')\n",
    "TNG_sat = TNG.query('LCentSat==0')\n",
    "TNG50_sat = TNG50.query('LCentSat==0')\n",
    "Illustris_sat = Illustris.query('LCentSat==0')"
   ]
  },
  {
   "cell_type": "code",
   "execution_count": 6,
   "metadata": {},
   "outputs": [],
   "source": [
    "SDSS_Q = SDSS.query('sSFR<-11')\n",
    "SDSS_SF = SDSS.query('sSFR>-11')\n",
    "\n",
    "TNG_Q = TNG.query('sSFR<-11')\n",
    "TNG_SF = TNG.query('sSFR>-11')\n",
    "\n",
    "TNG50_Q = TNG50.query('sSFR<-11')\n",
    "TNG50_SF = TNG50.query('sSFR>-11')\n",
    "\n",
    "Illustris_Q = Illustris.query('sSFR<-11')\n",
    "Illustris_SF = Illustris.query('sSFR>-11')\n"
   ]
  },
  {
   "cell_type": "code",
   "execution_count": 7,
   "metadata": {},
   "outputs": [],
   "source": [
    "SDSS_cen_Q = SDSS.query('LCentSat==1 & sSFR<-11')\n",
    "TNG_cen_Q = TNG.query('LCentSat==1 & sSFR<-11')\n",
    "TNG50_cen_Q = TNG50.query('LCentSat==1 & sSFR<-11')\n",
    "Illustris_cen_Q = Illustris.query('LCentSat==1 & sSFR<-11')\n",
    "\n",
    "SDSS_cen_SF = SDSS.query('LCentSat==1 & sSFR>-11')\n",
    "TNG_cen_SF = TNG.query('LCentSat==1 & sSFR>-11')\n",
    "TNG50_cen_SF = TNG50.query('LCentSat==1 & sSFR>-11')\n",
    "Illustris_cen_SF = Illustris.query('LCentSat==1 & sSFR>-11')"
   ]
  },
  {
   "cell_type": "code",
   "execution_count": 9,
   "metadata": {},
   "outputs": [],
   "source": [
    "model1 = '/scratch/lzanisi/pixel-cnn/trained/0.03_0.055/asinh_SDSS_blobsLike_0.03_0.055_old/1Msteps/pixelcnn_out'\n",
    "model2 ='/scratch/lzanisi/pixel-cnn/trained/0.03_0.055/asinh_NewSersicBlobs_SerOnly_0.03_0.055_old/1Msteps/pixelcnn_out'"
   ]
  },
  {
   "cell_type": "code",
   "execution_count": 13,
   "metadata": {},
   "outputs": [
    {
     "name": "stdout",
     "output_type": "stream",
     "text": [
      "loading TNG50 ...\n"
     ]
    },
    {
     "ename": "FileNotFoundError",
     "evalue": "[Errno 2] No such file or directory: '/scratch/lzanisi/pixel-cnn/outputs/TNG50/lmap_asinh_SDSS_blobsLike_0.03_0.055_old_1Msteps_test_orig.pkl'",
     "output_type": "error",
     "traceback": [
      "\u001b[0;31m---------------------------------------------------------------------------\u001b[0m",
      "\u001b[0;31mFileNotFoundError\u001b[0m                         Traceback (most recent call last)",
      "\u001b[0;32m<ipython-input-13-5972d0b477f3>\u001b[0m in \u001b[0;36m<module>\u001b[0;34m\u001b[0m\n\u001b[0;32m----> 1\u001b[0;31m \u001b[0mLLR_TNG50\u001b[0m\u001b[0;34m,\u001b[0m \u001b[0mdata_TNG50\u001b[0m\u001b[0;34m,\u001b[0m \u001b[0mids_TNG50\u001b[0m \u001b[0;34m=\u001b[0m \u001b[0mloader\u001b[0m\u001b[0;34m(\u001b[0m\u001b[0mdataset\u001b[0m\u001b[0;34m=\u001b[0m\u001b[0;34m'TNG50'\u001b[0m\u001b[0;34m,\u001b[0m \u001b[0mmodel1\u001b[0m\u001b[0;34m=\u001b[0m\u001b[0mmodel1\u001b[0m\u001b[0;34m,\u001b[0m \u001b[0mmodel2\u001b[0m\u001b[0;34m=\u001b[0m\u001b[0mmodel2\u001b[0m\u001b[0;34m)\u001b[0m\u001b[0;34m\u001b[0m\u001b[0;34m\u001b[0m\u001b[0m\n\u001b[0m\u001b[1;32m      2\u001b[0m \u001b[0mLLR_TNG\u001b[0m\u001b[0;34m,\u001b[0m \u001b[0mdata_TNG\u001b[0m\u001b[0;34m,\u001b[0m \u001b[0mids_TNG\u001b[0m \u001b[0;34m=\u001b[0m \u001b[0mloader\u001b[0m\u001b[0;34m(\u001b[0m\u001b[0mdataset\u001b[0m\u001b[0;34m=\u001b[0m\u001b[0;34m'TNG'\u001b[0m\u001b[0;34m,\u001b[0m \u001b[0mmodel1\u001b[0m\u001b[0;34m=\u001b[0m\u001b[0mmodel1\u001b[0m\u001b[0;34m,\u001b[0m \u001b[0mmodel2\u001b[0m\u001b[0;34m=\u001b[0m\u001b[0mmodel2\u001b[0m\u001b[0;34m)\u001b[0m\u001b[0;34m\u001b[0m\u001b[0;34m\u001b[0m\u001b[0m\n\u001b[1;32m      3\u001b[0m \u001b[0mLLR_SDSS\u001b[0m\u001b[0;34m,\u001b[0m \u001b[0mdata_SDSS\u001b[0m\u001b[0;34m,\u001b[0m \u001b[0mids_SDSS\u001b[0m \u001b[0;34m=\u001b[0m \u001b[0mloader\u001b[0m\u001b[0;34m(\u001b[0m\u001b[0mdataset\u001b[0m\u001b[0;34m=\u001b[0m\u001b[0;34m'SDSS'\u001b[0m\u001b[0;34m,\u001b[0m \u001b[0mmodel1\u001b[0m\u001b[0;34m=\u001b[0m\u001b[0mmodel1\u001b[0m\u001b[0;34m,\u001b[0m \u001b[0mmodel2\u001b[0m\u001b[0;34m=\u001b[0m\u001b[0mmodel2\u001b[0m\u001b[0;34m)\u001b[0m\u001b[0;34m\u001b[0m\u001b[0;34m\u001b[0m\u001b[0m\n",
      "\u001b[0;32m<ipython-input-10-705a89f756a0>\u001b[0m in \u001b[0;36mloader\u001b[0;34m(dataset, model1, model2)\u001b[0m\n\u001b[1;32m      3\u001b[0m \u001b[0;34m\u001b[0m\u001b[0m\n\u001b[1;32m      4\u001b[0m     \u001b[0mloader\u001b[0m \u001b[0;34m=\u001b[0m \u001b[0mdata_loader\u001b[0m\u001b[0;34m(\u001b[0m\u001b[0mdataset\u001b[0m\u001b[0;34m=\u001b[0m\u001b[0mdataset\u001b[0m\u001b[0;34m,\u001b[0m \u001b[0mmodel\u001b[0m\u001b[0;34m=\u001b[0m\u001b[0mmodel1\u001b[0m\u001b[0;34m,\u001b[0m\u001b[0mmodel2\u001b[0m\u001b[0;34m=\u001b[0m\u001b[0mmodel2\u001b[0m\u001b[0;34m)\u001b[0m\u001b[0;34m\u001b[0m\u001b[0;34m\u001b[0m\u001b[0m\n\u001b[0;32m----> 5\u001b[0;31m     \u001b[0mLLR\u001b[0m\u001b[0;34m,\u001b[0m \u001b[0mids\u001b[0m \u001b[0;34m=\u001b[0m \u001b[0mloader\u001b[0m\u001b[0;34m.\u001b[0m\u001b[0mload\u001b[0m\u001b[0;34m(\u001b[0m\u001b[0mmap_type\u001b[0m\u001b[0;34m=\u001b[0m\u001b[0;34m'LLR'\u001b[0m\u001b[0;34m)\u001b[0m\u001b[0;34m\u001b[0m\u001b[0;34m\u001b[0m\u001b[0m\n\u001b[0m\u001b[1;32m      6\u001b[0m     \u001b[0mdata\u001b[0m\u001b[0;34m,\u001b[0m \u001b[0m_\u001b[0m \u001b[0;34m=\u001b[0m \u001b[0mloader\u001b[0m\u001b[0;34m.\u001b[0m\u001b[0mload\u001b[0m\u001b[0;34m(\u001b[0m\u001b[0mmap_type\u001b[0m\u001b[0;34m=\u001b[0m\u001b[0;34m'data_rot'\u001b[0m\u001b[0;34m)\u001b[0m\u001b[0;34m\u001b[0m\u001b[0;34m\u001b[0m\u001b[0m\n\u001b[1;32m      7\u001b[0m \u001b[0;34m\u001b[0m\u001b[0m\n",
      "\u001b[0;32m/scratch/lzanisi/pixel-cnn/analysis/maps.py\u001b[0m in \u001b[0;36mload\u001b[0;34m(self, map_type)\u001b[0m\n\u001b[1;32m     50\u001b[0m             \u001b[0;32mreturn\u001b[0m \u001b[0mdata\u001b[0m\u001b[0;34m,\u001b[0m \u001b[0mids\u001b[0m\u001b[0;34m\u001b[0m\u001b[0;34m\u001b[0m\u001b[0m\n\u001b[1;32m     51\u001b[0m         \u001b[0;32melse\u001b[0m\u001b[0;34m:\u001b[0m\u001b[0;34m\u001b[0m\u001b[0;34m\u001b[0m\u001b[0m\n\u001b[0;32m---> 52\u001b[0;31m             \u001b[0;32mwith\u001b[0m \u001b[0mopen\u001b[0m\u001b[0;34m(\u001b[0m\u001b[0;34m'/scratch/lzanisi/pixel-cnn/outputs/{}/lmap_{}_{}_test_orig.pkl'\u001b[0m\u001b[0;34m.\u001b[0m\u001b[0mformat\u001b[0m\u001b[0;34m(\u001b[0m\u001b[0mself\u001b[0m\u001b[0;34m.\u001b[0m\u001b[0mdataset\u001b[0m\u001b[0;34m,\u001b[0m\u001b[0mrun\u001b[0m\u001b[0;34m,\u001b[0m\u001b[0mname\u001b[0m\u001b[0;34m)\u001b[0m\u001b[0;34m,\u001b[0m\u001b[0;34m'rb'\u001b[0m\u001b[0;34m)\u001b[0m \u001b[0;32mas\u001b[0m \u001b[0mf\u001b[0m\u001b[0;34m:\u001b[0m\u001b[0;34m\u001b[0m\u001b[0;34m\u001b[0m\u001b[0m\n\u001b[0m\u001b[1;32m     53\u001b[0m                 \u001b[0mobj\u001b[0m \u001b[0;34m=\u001b[0m \u001b[0mpkl\u001b[0m\u001b[0;34m.\u001b[0m\u001b[0mload\u001b[0m\u001b[0;34m(\u001b[0m\u001b[0mf\u001b[0m\u001b[0;34m)\u001b[0m\u001b[0;34m\u001b[0m\u001b[0;34m\u001b[0m\u001b[0m\n\u001b[1;32m     54\u001b[0m             \u001b[0mdata\u001b[0m \u001b[0;34m=\u001b[0m \u001b[0mnp\u001b[0m\u001b[0;34m.\u001b[0m\u001b[0masarray\u001b[0m\u001b[0;34m(\u001b[0m\u001b[0mobj\u001b[0m\u001b[0;34m[\u001b[0m\u001b[0;34m'likelihoodmap'\u001b[0m\u001b[0;34m]\u001b[0m\u001b[0;34m)\u001b[0m\u001b[0;34m\u001b[0m\u001b[0;34m\u001b[0m\u001b[0m\n",
      "\u001b[0;31mFileNotFoundError\u001b[0m: [Errno 2] No such file or directory: '/scratch/lzanisi/pixel-cnn/outputs/TNG50/lmap_asinh_SDSS_blobsLike_0.03_0.055_old_1Msteps_test_orig.pkl'"
     ]
    }
   ],
   "source": [
    "LLR_TNG50, data_TNG50, ids_TNG50 = loader(dataset='TNG50', model1=model1, model2=model2)\n",
    "LLR_TNG, data_TNG, ids_TNG = loader(dataset='TNG', model1=model1, model2=model2)\n",
    "LLR_SDSS, data_SDSS, ids_SDSS = loader(dataset='SDSS', model1=model1, model2=model2)"
   ]
  },
  {
   "cell_type": "code",
   "execution_count": null,
   "metadata": {},
   "outputs": [],
   "source": []
  },
  {
   "cell_type": "code",
   "execution_count": null,
   "metadata": {},
   "outputs": [],
   "source": []
  },
  {
   "cell_type": "code",
   "execution_count": null,
   "metadata": {},
   "outputs": [],
   "source": []
  },
  {
   "cell_type": "code",
   "execution_count": null,
   "metadata": {},
   "outputs": [],
   "source": []
  },
  {
   "cell_type": "code",
   "execution_count": null,
   "metadata": {},
   "outputs": [],
   "source": []
  },
  {
   "cell_type": "code",
   "execution_count": null,
   "metadata": {},
   "outputs": [],
   "source": []
  },
  {
   "cell_type": "code",
   "execution_count": null,
   "metadata": {},
   "outputs": [],
   "source": []
  },
  {
   "cell_type": "code",
   "execution_count": null,
   "metadata": {},
   "outputs": [],
   "source": []
  },
  {
   "cell_type": "code",
   "execution_count": null,
   "metadata": {},
   "outputs": [],
   "source": []
  },
  {
   "cell_type": "code",
   "execution_count": null,
   "metadata": {},
   "outputs": [],
   "source": []
  },
  {
   "cell_type": "code",
   "execution_count": null,
   "metadata": {},
   "outputs": [],
   "source": []
  }
 ],
 "metadata": {
  "kernelspec": {
   "display_name": "Python 3",
   "language": "python",
   "name": "python3"
  },
  "language_info": {
   "codemirror_mode": {
    "name": "ipython",
    "version": 3
   },
   "file_extension": ".py",
   "mimetype": "text/x-python",
   "name": "python",
   "nbconvert_exporter": "python",
   "pygments_lexer": "ipython3",
   "version": "3.6.8"
  }
 },
 "nbformat": 4,
 "nbformat_minor": 2
}
