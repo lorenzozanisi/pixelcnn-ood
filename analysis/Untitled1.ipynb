{
 "cells": [
  {
   "cell_type": "code",
   "execution_count": null,
   "metadata": {},
   "outputs": [],
   "source": [
    "import numpy as np\n",
    "import matplotlib.pylab as plt\n",
    "import matplotlib as mpl\n",
    "from scipy.integrate import cumtrapz\n",
    "import seaborn as sns\n",
    "plt.style.use('seaborn')\n",
    "mpl.use('agg')\n",
    "import pandas as pd\n",
    "mpl.rcParams['font.size']=45\n",
    "#mpl.rcParams['xtick.minor.visible']=True\n",
    "\n",
    "#pl.rcParams['axes.linewidth']= 3.\n",
    "#mpl.rcParams['axes.titlepad'] = 20\n",
    "#plt.rcParams['xtick.major.size'] =15\n",
    "#plt.rcParams['ytick.major.size'] =15\n",
    "#plt.rcParams['xtick.minor.size'] =10\n",
    "#plt.rcParams['ytick.minor.size'] =10\n",
    "#plt.rcParams['xtick.major.width'] =5\n",
    "#plt.rcParams['ytick.major.width'] =5\n",
    "#plt.rcParams['xtick.minor.width'] =5\n",
    "#plt.rcParams['ytick.minor.width'] =5\n",
    "mpl.rcParams['axes.titlepad'] = 20 \n",
    "plt.rcParams['figure.figsize']=(16,12)"
   ]
  },
  {
   "cell_type": "code",
   "execution_count": null,
   "metadata": {},
   "outputs": [],
   "source": [
    "SDSS = pd.read_csv('/scratch/lzanisi/pixel-cnn/data/DataFrames_LLR/SDSS_Rot_blobsLike_0.03_0.055.csv')\n",
    "#SDSS_newsky = pd.read_csv('/scratch/lzanisi/pixel-cnn/data/DataFrames_LLR/SDSS_newsky_Rot_blobsLike__0.03_0.055.csv')\n",
    "\n",
    "#SDSS_train = pd.read_csv('/scratch/lzanisi/pixel-cnn/data/DataFrames_LLR/SDSS_Rot_blobsLike_train__0.03_0.055.csv')\n",
    "Illustris = pd.read_csv('/scratch/lzanisi/pixel-cnn/data/DataFrames_LLR/Illustris_Rot_blobsLike_orig_0.03_0.055_magmatch.csv')\n",
    "\n",
    "TNG = pd.read_csv('/scratch/lzanisi/pixel-cnn/data/DataFrames_LLR/TNG_Rot_blobsLike_orig_0.03_0.055_magmatch.csv')\n",
    "TNG50 = pd.read_csv('/scratch/lzanisi/pixel-cnn/data/DataFrames_LLR/TNG50_Rot_blobsLike_orig_0.03_0.055_magmatch.csv')\n",
    "\n",
    "print(TNG50.shape)\n",
    "blobs = pd.read_csv('/scratch/lzanisi/pixel-cnn/data/DataFrames_LLR/blobs_Rot_blobsLike_0.03_0.055.csv')\n",
    "#blobs_train = pd.read_csv('/scratch/lzanisi/pixel-cnn/data/DataFrames_LLR/blobs_Rot_blobsLike_train.csv')\n",
    "\n"
   ]
  },
  {
   "cell_type": "code",
   "execution_count": 25,
   "metadata": {},
   "outputs": [],
   "source": [
    "Nboot = 1000\n",
    "n = len(TNG50)\n",
    "mean = []\n",
    "up = []\n",
    "low = []\n",
    "Samples = []\n",
    "bins = np.arange(-50,500,10)\n",
    "for i in range(Nboot):\n",
    "    sample = SDSS.sample(n)['LLR']\n",
    "    Samples.append(np.histogram(sample, bins=bins)[0])\n",
    "    \n"
   ]
  },
  {
   "cell_type": "code",
   "execution_count": 28,
   "metadata": {},
   "outputs": [
    {
     "data": {
      "text/plain": [
       "<matplotlib.collections.PolyCollection at 0x7fccd10d8ac8>"
      ]
     },
     "execution_count": 28,
     "metadata": {},
     "output_type": "execute_result"
    },
    {
     "data": {
      "image/png": "[encoded data removed]",
      "text/plain": [
       "<Figure size 432x288 with 1 Axes>"
      ]
     },
     "metadata": {
      "needs_background": "light"
     },
     "output_type": "display_data"
    }
   ],
   "source": [
    "low, med, up = np.percentile(np.array(Samples).T, [0.15,50,99.85], axis=1)\n",
    "plt.plot(bins[1:],med, color='darkorange')\n",
    "plt.fill_between(bins[1:], up,low, color='moccasin', alpha=0.5)"
   ]
  },
  {
   "cell_type": "code",
   "execution_count": 21,
   "metadata": {},
   "outputs": [
    {
     "data": {
      "text/plain": [
       "\u001b[0;31mSignature:\u001b[0m\n",
       "\u001b[0mplt\u001b[0m\u001b[0;34m.\u001b[0m\u001b[0mfill_between\u001b[0m\u001b[0;34m(\u001b[0m\u001b[0;34m\u001b[0m\n",
       "\u001b[0;34m\u001b[0m    \u001b[0mx\u001b[0m\u001b[0;34m,\u001b[0m\u001b[0;34m\u001b[0m\n",
       "\u001b[0;34m\u001b[0m    \u001b[0my1\u001b[0m\u001b[0;34m,\u001b[0m\u001b[0;34m\u001b[0m\n",
       "\u001b[0;34m\u001b[0m    \u001b[0my2\u001b[0m\u001b[0;34m=\u001b[0m\u001b[0;36m0\u001b[0m\u001b[0;34m,\u001b[0m\u001b[0;34m\u001b[0m\n",
       "\u001b[0;34m\u001b[0m    \u001b[0mwhere\u001b[0m\u001b[0;34m=\u001b[0m\u001b[0;32mNone\u001b[0m\u001b[0;34m,\u001b[0m\u001b[0;34m\u001b[0m\n",
       "\u001b[0;34m\u001b[0m    \u001b[0minterpolate\u001b[0m\u001b[0;34m=\u001b[0m\u001b[0;32mFalse\u001b[0m\u001b[0;34m,\u001b[0m\u001b[0;34m\u001b[0m\n",
       "\u001b[0;34m\u001b[0m    \u001b[0mstep\u001b[0m\u001b[0;34m=\u001b[0m\u001b[0;32mNone\u001b[0m\u001b[0;34m,\u001b[0m\u001b[0;34m\u001b[0m\n",
       "\u001b[0;34m\u001b[0m    \u001b[0;34m*\u001b[0m\u001b[0;34m,\u001b[0m\u001b[0;34m\u001b[0m\n",
       "\u001b[0;34m\u001b[0m    \u001b[0mdata\u001b[0m\u001b[0;34m=\u001b[0m\u001b[0;32mNone\u001b[0m\u001b[0;34m,\u001b[0m\u001b[0;34m\u001b[0m\n",
       "\u001b[0;34m\u001b[0m    \u001b[0;34m**\u001b[0m\u001b[0mkwargs\u001b[0m\u001b[0;34m,\u001b[0m\u001b[0;34m\u001b[0m\n",
       "\u001b[0;34m\u001b[0m\u001b[0;34m)\u001b[0m\u001b[0;34m\u001b[0m\u001b[0;34m\u001b[0m\u001b[0m\n",
       "\u001b[0;31mDocstring:\u001b[0m\n",
       "Fill the area between two horizontal curves.\n",
       "\n",
       "The curves are defined by the points (*x*, *y1*) and (*x*, *y2*). This\n",
       "creates one or multiple polygons describing the filled area.\n",
       "\n",
       "You may exclude some horizontal sections from filling using *where*.\n",
       "\n",
       "By default, the edges connect the given points directly. Use *step* if\n",
       "the filling should be a step function, i.e. constant in between *x*.\n",
       "\n",
       "\n",
       "Parameters\n",
       "----------\n",
       "x : array (length N)\n",
       "    The x coordinates of the nodes defining the curves.\n",
       "\n",
       "y1 : array (length N) or scalar\n",
       "    The y coordinates of the nodes defining the first curve.\n",
       "\n",
       "y2 : array (length N) or scalar, optional, default: 0\n",
       "    The y coordinates of the nodes defining the second curve.\n",
       "\n",
       "where : array of bool (length N), optional, default: None\n",
       "    Define *where* to exclude some horizontal regions from being\n",
       "    filled. The filled regions are defined by the coordinates\n",
       "    ``x[where]``.  More precisely, fill between ``x[i]`` and ``x[i+1]``\n",
       "    if ``where[i] and where[i+1]``.  Note that this definition implies\n",
       "    that an isolated *True* value between two *False* values in\n",
       "    *where* will not result in filling.  Both sides of the *True*\n",
       "    position remain unfilled due to the adjacent *False* values.\n",
       "\n",
       "interpolate : bool, optional\n",
       "    This option is only relvant if *where* is used and the two curves\n",
       "    are crossing each other.\n",
       "\n",
       "    Semantically, *where* is often used for *y1* > *y2* or similar.\n",
       "    By default, the nodes of the polygon defining the filled region\n",
       "    will only be placed at the positions in the *x* array.  Such a\n",
       "    polygon cannot describe the above semantics close to the\n",
       "    intersection.  The x-sections containing the intersection are\n",
       "    simply clipped.\n",
       "\n",
       "    Setting *interpolate* to *True* will calculate the actual\n",
       "    intersection point and extend the filled region up to this point.\n",
       "\n",
       "step : {'pre', 'post', 'mid'}, optional\n",
       "    Define *step* if the filling should be a step function,\n",
       "    i.e. constant in between *x*. The value determines where the\n",
       "    step will occur:\n",
       "\n",
       "    - 'pre': The y value is continued constantly to the left from\n",
       "      every *x* position, i.e. the interval ``(x[i-1], x[i]]`` has the\n",
       "      value ``y[i]``.\n",
       "    - 'post': The y value is continued constantly to the right from\n",
       "      every *x* position, i.e. the interval ``[x[i], x[i+1])`` has the\n",
       "      value ``y[i]``.\n",
       "    - 'mid': Steps occur half-way between the *x* positions.\n",
       "\n",
       "Other Parameters\n",
       "----------------\n",
       "**kwargs\n",
       "    All other keyword arguments are passed on to `.PolyCollection`.\n",
       "    They control the `.Polygon` properties:\n",
       "\n",
       "      agg_filter: a filter function, which takes a (m, n, 3) float array and a dpi value, and returns a (m, n, 3) array \n",
       "  alpha: float or None\n",
       "  animated: bool\n",
       "  antialiased: bool or sequence of bools\n",
       "  array: ndarray\n",
       "  capstyle: {'butt', 'round', 'projecting'}\n",
       "  clim: a length 2 sequence of floats; may be overridden in methods that have ``vmin`` and ``vmax`` kwargs. \n",
       "  clip_box: `.Bbox`\n",
       "  clip_on: bool\n",
       "  clip_path: [(`~matplotlib.path.Path`, `.Transform`) | `.Patch` | None] \n",
       "  cmap: colormap or registered colormap name\n",
       "  color: matplotlib color arg or sequence of rgba tuples\n",
       "  contains: callable\n",
       "  edgecolor: color or sequence of colors\n",
       "  facecolor: color or sequence of colors\n",
       "  figure: `.Figure`\n",
       "  gid: str\n",
       "  hatch: {'/', '\\\\', '|', '-', '+', 'x', 'o', 'O', '.', '*'}\n",
       "  in_layout: bool\n",
       "  joinstyle: {'miter', 'round', 'bevel'}\n",
       "  label: object\n",
       "  linestyle: {'-', '--', '-.', ':', '', (offset, on-off-seq), ...}\n",
       "  linewidth: float or sequence of floats\n",
       "  norm: `.Normalize`\n",
       "  offset_position: {'screen', 'data'}\n",
       "  offsets: float or sequence of floats\n",
       "  path_effects: `.AbstractPathEffect`\n",
       "  picker: None or bool or float or callable\n",
       "  pickradius: unknown\n",
       "  rasterized: bool or None\n",
       "  sketch_params: (scale: float, length: float, randomness: float) \n",
       "  snap: bool or None\n",
       "  transform: `.Transform`\n",
       "  url: str\n",
       "  urls: List[str] or None\n",
       "  visible: bool\n",
       "  zorder: float\n",
       "\n",
       "Returns\n",
       "-------\n",
       "`.PolyCollection`\n",
       "    A `.PolyCollection` containing the plotted polygons.\n",
       "\n",
       "See Also\n",
       "--------\n",
       "fill_betweenx : Fill between two sets of x-values.\n",
       "\n",
       "Notes\n",
       "-----\n",
       ".. [notes section required to get data note injection right]\n",
       "\n",
       ".. note::\n",
       "    In addition to the above described arguments, this function can take a\n",
       "    **data** keyword argument. If such a **data** argument is given, the\n",
       "    following arguments are replaced by **data[<arg>]**:\n",
       "\n",
       "    * All arguments with the following names: 'where', 'x', 'y1', 'y2'.\n",
       "\n",
       "    Objects passed as **data** must support item access (``data[<arg>]``) and\n",
       "    membership test (``<arg> in data``).\n",
       "\u001b[0;31mFile:\u001b[0m      /scratch/lzanisi/anaconda3/lib/python3.6/site-packages/matplotlib/pyplot.py\n",
       "\u001b[0;31mType:\u001b[0m      function\n"
      ]
     },
     "metadata": {},
     "output_type": "display_data"
    }
   ],
   "source": [
    "plt.fill_between?"
   ]
  },
  {
   "cell_type": "code",
   "execution_count": 15,
   "metadata": {},
   "outputs": [
    {
     "data": {
      "text/plain": [
       "55"
      ]
     },
     "execution_count": 15,
     "metadata": {},
     "output_type": "execute_result"
    }
   ],
   "source": [
    "len(bins)"
   ]
  },
  {
   "cell_type": "code",
   "execution_count": null,
   "metadata": {},
   "outputs": [],
   "source": []
  }
 ],
 "metadata": {
  "kernelspec": {
   "display_name": "Python 3",
   "language": "python",
   "name": "python3"
  },
  "language_info": {
   "codemirror_mode": {
    "name": "ipython",
    "version": 3
   },
   "file_extension": ".py",
   "mimetype": "text/x-python",
   "name": "python",
   "nbconvert_exporter": "python",
   "pygments_lexer": "ipython3",
   "version": "3.6.8"
  }
 },
 "nbformat": 4,
 "nbformat_minor": 2
}
